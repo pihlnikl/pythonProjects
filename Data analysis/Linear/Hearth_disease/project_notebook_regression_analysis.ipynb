{
 "cells": [
  {
   "cell_type": "markdown",
   "metadata": {},
   "source": [
    "# Linear regression"
   ]
  },
  {
   "cell_type": "markdown",
   "metadata": {},
   "source": [
    "Import all the modules you will need in this notebook here:"
   ]
  },
  {
   "cell_type": "code",
   "execution_count": 1,
   "metadata": {},
   "outputs": [],
   "source": [
    "# exercise 0\n",
    "\n",
    "import numpy as np\n",
    "import pandas as pd\n",
    "import matplotlib.pyplot as plt\n",
    "import statsmodels\n",
    "import statsmodels.api as sm\n",
    "import statsmodels.formula.api as smf\n",
    "from statsmodels.graphics.regressionplots import abline_plot"
   ]
  },
  {
   "cell_type": "markdown",
   "metadata": {},
   "source": [
    "We continue analysing the `fram` heart disease data.\n",
    "\n",
    "First load the data, use the name `fram` for the DataFrame variable. Make sure that in the data you loaded the column and row headers are in place. Checkout the summary of the variables using the `describe` method."
   ]
  },
  {
   "cell_type": "code",
   "execution_count": 2,
   "metadata": {},
   "outputs": [
    {
     "name": "stdout",
     "output_type": "stream",
     "text": [
      "Rows: 1394, Columns: 14\n",
      "\n",
      "Variables: ['ID', 'SEX', 'AGE', 'FRW', 'SBP', 'SBP10', 'DBP', 'CHOL', 'CIG', 'CHD', 'YRS_CHD', 'DEATH', 'YRS_DTH', 'CAUSE']\n"
     ]
    },
    {
     "data": {
      "text/html": [
       "<div>\n",
       "<style scoped>\n",
       "    .dataframe tbody tr th:only-of-type {\n",
       "        vertical-align: middle;\n",
       "    }\n",
       "\n",
       "    .dataframe tbody tr th {\n",
       "        vertical-align: top;\n",
       "    }\n",
       "\n",
       "    .dataframe thead th {\n",
       "        text-align: right;\n",
       "    }\n",
       "</style>\n",
       "<table border=\"1\" class=\"dataframe\">\n",
       "  <thead>\n",
       "    <tr style=\"text-align: right;\">\n",
       "      <th></th>\n",
       "      <th>ID</th>\n",
       "      <th>AGE</th>\n",
       "      <th>FRW</th>\n",
       "      <th>SBP</th>\n",
       "      <th>SBP10</th>\n",
       "      <th>DBP</th>\n",
       "      <th>CHOL</th>\n",
       "      <th>CIG</th>\n",
       "      <th>CHD</th>\n",
       "      <th>DEATH</th>\n",
       "      <th>YRS_DTH</th>\n",
       "    </tr>\n",
       "  </thead>\n",
       "  <tbody>\n",
       "    <tr>\n",
       "      <th>count</th>\n",
       "      <td>1394.000000</td>\n",
       "      <td>1394.000000</td>\n",
       "      <td>1394.000000</td>\n",
       "      <td>1394.000000</td>\n",
       "      <td>767.000000</td>\n",
       "      <td>1394.000000</td>\n",
       "      <td>1394.000000</td>\n",
       "      <td>1394.000000</td>\n",
       "      <td>1394.000000</td>\n",
       "      <td>1394.000000</td>\n",
       "      <td>1394.000000</td>\n",
       "    </tr>\n",
       "    <tr>\n",
       "      <th>mean</th>\n",
       "      <td>4737.184362</td>\n",
       "      <td>52.431133</td>\n",
       "      <td>105.365136</td>\n",
       "      <td>148.086083</td>\n",
       "      <td>148.040417</td>\n",
       "      <td>90.135581</td>\n",
       "      <td>234.644907</td>\n",
       "      <td>8.029412</td>\n",
       "      <td>1.187948</td>\n",
       "      <td>1.700861</td>\n",
       "      <td>16.219512</td>\n",
       "    </tr>\n",
       "    <tr>\n",
       "      <th>std</th>\n",
       "      <td>1073.406896</td>\n",
       "      <td>4.781507</td>\n",
       "      <td>17.752489</td>\n",
       "      <td>28.022062</td>\n",
       "      <td>25.706664</td>\n",
       "      <td>14.226235</td>\n",
       "      <td>46.303822</td>\n",
       "      <td>11.584138</td>\n",
       "      <td>2.615976</td>\n",
       "      <td>3.203132</td>\n",
       "      <td>3.921413</td>\n",
       "    </tr>\n",
       "    <tr>\n",
       "      <th>min</th>\n",
       "      <td>1070.000000</td>\n",
       "      <td>45.000000</td>\n",
       "      <td>52.000000</td>\n",
       "      <td>90.000000</td>\n",
       "      <td>94.000000</td>\n",
       "      <td>50.000000</td>\n",
       "      <td>96.000000</td>\n",
       "      <td>0.000000</td>\n",
       "      <td>0.000000</td>\n",
       "      <td>0.000000</td>\n",
       "      <td>1.000000</td>\n",
       "    </tr>\n",
       "    <tr>\n",
       "      <th>25%</th>\n",
       "      <td>3890.250000</td>\n",
       "      <td>48.000000</td>\n",
       "      <td>94.000000</td>\n",
       "      <td>130.000000</td>\n",
       "      <td>130.000000</td>\n",
       "      <td>80.000000</td>\n",
       "      <td>200.000000</td>\n",
       "      <td>0.000000</td>\n",
       "      <td>0.000000</td>\n",
       "      <td>0.000000</td>\n",
       "      <td>18.000000</td>\n",
       "    </tr>\n",
       "    <tr>\n",
       "      <th>50%</th>\n",
       "      <td>4821.000000</td>\n",
       "      <td>52.000000</td>\n",
       "      <td>103.000000</td>\n",
       "      <td>142.000000</td>\n",
       "      <td>145.000000</td>\n",
       "      <td>90.000000</td>\n",
       "      <td>230.000000</td>\n",
       "      <td>0.000000</td>\n",
       "      <td>0.000000</td>\n",
       "      <td>0.000000</td>\n",
       "      <td>18.000000</td>\n",
       "    </tr>\n",
       "    <tr>\n",
       "      <th>75%</th>\n",
       "      <td>5641.750000</td>\n",
       "      <td>56.000000</td>\n",
       "      <td>114.000000</td>\n",
       "      <td>160.000000</td>\n",
       "      <td>160.000000</td>\n",
       "      <td>98.000000</td>\n",
       "      <td>264.000000</td>\n",
       "      <td>20.000000</td>\n",
       "      <td>0.000000</td>\n",
       "      <td>0.000000</td>\n",
       "      <td>18.000000</td>\n",
       "    </tr>\n",
       "    <tr>\n",
       "      <th>max</th>\n",
       "      <td>6442.000000</td>\n",
       "      <td>62.000000</td>\n",
       "      <td>222.000000</td>\n",
       "      <td>300.000000</td>\n",
       "      <td>264.000000</td>\n",
       "      <td>160.000000</td>\n",
       "      <td>430.000000</td>\n",
       "      <td>60.000000</td>\n",
       "      <td>10.000000</td>\n",
       "      <td>10.000000</td>\n",
       "      <td>18.000000</td>\n",
       "    </tr>\n",
       "  </tbody>\n",
       "</table>\n",
       "</div>"
      ],
      "text/plain": [
       "                ID          AGE          FRW          SBP       SBP10  \\\n",
       "count  1394.000000  1394.000000  1394.000000  1394.000000  767.000000   \n",
       "mean   4737.184362    52.431133   105.365136   148.086083  148.040417   \n",
       "std    1073.406896     4.781507    17.752489    28.022062   25.706664   \n",
       "min    1070.000000    45.000000    52.000000    90.000000   94.000000   \n",
       "25%    3890.250000    48.000000    94.000000   130.000000  130.000000   \n",
       "50%    4821.000000    52.000000   103.000000   142.000000  145.000000   \n",
       "75%    5641.750000    56.000000   114.000000   160.000000  160.000000   \n",
       "max    6442.000000    62.000000   222.000000   300.000000  264.000000   \n",
       "\n",
       "               DBP         CHOL          CIG          CHD        DEATH  \\\n",
       "count  1394.000000  1394.000000  1394.000000  1394.000000  1394.000000   \n",
       "mean     90.135581   234.644907     8.029412     1.187948     1.700861   \n",
       "std      14.226235    46.303822    11.584138     2.615976     3.203132   \n",
       "min      50.000000    96.000000     0.000000     0.000000     0.000000   \n",
       "25%      80.000000   200.000000     0.000000     0.000000     0.000000   \n",
       "50%      90.000000   230.000000     0.000000     0.000000     0.000000   \n",
       "75%      98.000000   264.000000    20.000000     0.000000     0.000000   \n",
       "max     160.000000   430.000000    60.000000    10.000000    10.000000   \n",
       "\n",
       "           YRS_DTH  \n",
       "count  1394.000000  \n",
       "mean     16.219512  \n",
       "std       3.921413  \n",
       "min       1.000000  \n",
       "25%      18.000000  \n",
       "50%      18.000000  \n",
       "75%      18.000000  \n",
       "max      18.000000  "
      ]
     },
     "execution_count": 2,
     "metadata": {},
     "output_type": "execute_result"
    }
   ],
   "source": [
    "# exercise 1\n",
    "\n",
    "def get_path(filename):\n",
    "    import sys\n",
    "    import os\n",
    "    prog_name = sys.argv[0]\n",
    "    if os.path.basename(prog_name) == \"__main__.py\":   # Running under TMC\n",
    "        return os.path.join(os.path.dirname(prog_name), \"..\", \"src\", filename)\n",
    "    else:\n",
    "        return filename\n",
    "\n",
    "fram = pd.read_csv('src/fram.txt', sep='\\t')\n",
    "print('Rows: {}, Columns: {}\\n'.format(*fram.shape))\n",
    "print('Variables: {}'.format(list(fram.columns)))\n",
    "fram.describe()"
   ]
  },
  {
   "cell_type": "markdown",
   "metadata": {},
   "source": [
    "Create function `rescale` that takes a Series as parameter. It should center the data and normalize it by dividing\n",
    "by 2$\\sigma$, where $\\sigma$ is the standard deviation. Return the rescaled Series."
   ]
  },
  {
   "cell_type": "code",
   "execution_count": 3,
   "metadata": {},
   "outputs": [],
   "source": [
    "# exercise 2\n",
    "\n",
    "def rescale(s):\n",
    "    s_centered = s - s.mean()\n",
    "    s_normalized = s_centered / (2 * s.std())\n",
    "    return s_normalized"
   ]
  },
  {
   "cell_type": "markdown",
   "metadata": {},
   "source": [
    "Add to the DataFrame the scaled versions of all the continuous variables (with function `rescale`). Add small letter `s` in front of the original variable name to get the name of the scaled variable. For instance, `AGE` -> `sAGE`."
   ]
  },
  {
   "cell_type": "code",
   "execution_count": 4,
   "metadata": {},
   "outputs": [
    {
     "data": {
      "text/html": [
       "<div>\n",
       "<style scoped>\n",
       "    .dataframe tbody tr th:only-of-type {\n",
       "        vertical-align: middle;\n",
       "    }\n",
       "\n",
       "    .dataframe tbody tr th {\n",
       "        vertical-align: top;\n",
       "    }\n",
       "\n",
       "    .dataframe thead th {\n",
       "        text-align: right;\n",
       "    }\n",
       "</style>\n",
       "<table border=\"1\" class=\"dataframe\">\n",
       "  <thead>\n",
       "    <tr style=\"text-align: right;\">\n",
       "      <th></th>\n",
       "      <th>ID</th>\n",
       "      <th>SEX</th>\n",
       "      <th>AGE</th>\n",
       "      <th>FRW</th>\n",
       "      <th>SBP</th>\n",
       "      <th>SBP10</th>\n",
       "      <th>DBP</th>\n",
       "      <th>CHOL</th>\n",
       "      <th>CIG</th>\n",
       "      <th>CHD</th>\n",
       "      <th>YRS_CHD</th>\n",
       "      <th>DEATH</th>\n",
       "      <th>YRS_DTH</th>\n",
       "      <th>CAUSE</th>\n",
       "      <th>sAGE</th>\n",
       "      <th>sFRW</th>\n",
       "      <th>sSBP</th>\n",
       "      <th>sDBP</th>\n",
       "      <th>sCHOL</th>\n",
       "      <th>sCIG</th>\n",
       "    </tr>\n",
       "  </thead>\n",
       "  <tbody>\n",
       "    <tr>\n",
       "      <th>0</th>\n",
       "      <td>4988</td>\n",
       "      <td>female</td>\n",
       "      <td>57</td>\n",
       "      <td>135</td>\n",
       "      <td>186</td>\n",
       "      <td>NaN</td>\n",
       "      <td>120</td>\n",
       "      <td>150</td>\n",
       "      <td>0</td>\n",
       "      <td>1</td>\n",
       "      <td>pre</td>\n",
       "      <td>7</td>\n",
       "      <td>11</td>\n",
       "      <td>unknown</td>\n",
       "      <td>0.477764</td>\n",
       "      <td>0.834668</td>\n",
       "      <td>0.676501</td>\n",
       "      <td>1.049625</td>\n",
       "      <td>-0.914016</td>\n",
       "      <td>-0.346569</td>\n",
       "    </tr>\n",
       "    <tr>\n",
       "      <th>1</th>\n",
       "      <td>3001</td>\n",
       "      <td>female</td>\n",
       "      <td>60</td>\n",
       "      <td>123</td>\n",
       "      <td>165</td>\n",
       "      <td>NaN</td>\n",
       "      <td>100</td>\n",
       "      <td>167</td>\n",
       "      <td>25</td>\n",
       "      <td>0</td>\n",
       "      <td>16</td>\n",
       "      <td>10</td>\n",
       "      <td>17</td>\n",
       "      <td>unknown</td>\n",
       "      <td>0.791473</td>\n",
       "      <td>0.496687</td>\n",
       "      <td>0.301796</td>\n",
       "      <td>0.346698</td>\n",
       "      <td>-0.730446</td>\n",
       "      <td>0.732493</td>\n",
       "    </tr>\n",
       "    <tr>\n",
       "      <th>2</th>\n",
       "      <td>5079</td>\n",
       "      <td>female</td>\n",
       "      <td>54</td>\n",
       "      <td>115</td>\n",
       "      <td>140</td>\n",
       "      <td>NaN</td>\n",
       "      <td>90</td>\n",
       "      <td>213</td>\n",
       "      <td>5</td>\n",
       "      <td>0</td>\n",
       "      <td>8</td>\n",
       "      <td>8</td>\n",
       "      <td>13</td>\n",
       "      <td>unknown</td>\n",
       "      <td>0.164056</td>\n",
       "      <td>0.271367</td>\n",
       "      <td>-0.144281</td>\n",
       "      <td>-0.004765</td>\n",
       "      <td>-0.233727</td>\n",
       "      <td>-0.130757</td>\n",
       "    </tr>\n",
       "    <tr>\n",
       "      <th>3</th>\n",
       "      <td>5162</td>\n",
       "      <td>female</td>\n",
       "      <td>52</td>\n",
       "      <td>102</td>\n",
       "      <td>170</td>\n",
       "      <td>NaN</td>\n",
       "      <td>104</td>\n",
       "      <td>280</td>\n",
       "      <td>15</td>\n",
       "      <td>0</td>\n",
       "      <td>10</td>\n",
       "      <td>7</td>\n",
       "      <td>11</td>\n",
       "      <td>unknown</td>\n",
       "      <td>-0.045083</td>\n",
       "      <td>-0.094779</td>\n",
       "      <td>0.391012</td>\n",
       "      <td>0.487283</td>\n",
       "      <td>0.489755</td>\n",
       "      <td>0.300868</td>\n",
       "    </tr>\n",
       "    <tr>\n",
       "      <th>4</th>\n",
       "      <td>4672</td>\n",
       "      <td>female</td>\n",
       "      <td>45</td>\n",
       "      <td>99</td>\n",
       "      <td>185</td>\n",
       "      <td>NaN</td>\n",
       "      <td>105</td>\n",
       "      <td>326</td>\n",
       "      <td>20</td>\n",
       "      <td>0</td>\n",
       "      <td>8</td>\n",
       "      <td>10</td>\n",
       "      <td>17</td>\n",
       "      <td>unknown</td>\n",
       "      <td>-0.777070</td>\n",
       "      <td>-0.179274</td>\n",
       "      <td>0.658658</td>\n",
       "      <td>0.522430</td>\n",
       "      <td>0.986475</td>\n",
       "      <td>0.516680</td>\n",
       "    </tr>\n",
       "  </tbody>\n",
       "</table>\n",
       "</div>"
      ],
      "text/plain": [
       "     ID     SEX  AGE  FRW  SBP  SBP10  DBP  CHOL  CIG  CHD YRS_CHD  DEATH  \\\n",
       "0  4988  female   57  135  186    NaN  120   150    0    1     pre      7   \n",
       "1  3001  female   60  123  165    NaN  100   167   25    0      16     10   \n",
       "2  5079  female   54  115  140    NaN   90   213    5    0       8      8   \n",
       "3  5162  female   52  102  170    NaN  104   280   15    0      10      7   \n",
       "4  4672  female   45   99  185    NaN  105   326   20    0       8     10   \n",
       "\n",
       "   YRS_DTH    CAUSE      sAGE      sFRW      sSBP      sDBP     sCHOL  \\\n",
       "0       11  unknown  0.477764  0.834668  0.676501  1.049625 -0.914016   \n",
       "1       17  unknown  0.791473  0.496687  0.301796  0.346698 -0.730446   \n",
       "2       13  unknown  0.164056  0.271367 -0.144281 -0.004765 -0.233727   \n",
       "3       11  unknown -0.045083 -0.094779  0.391012  0.487283  0.489755   \n",
       "4       17  unknown -0.777070 -0.179274  0.658658  0.522430  0.986475   \n",
       "\n",
       "       sCIG  \n",
       "0 -0.346569  \n",
       "1  0.732493  \n",
       "2 -0.130757  \n",
       "3  0.300868  \n",
       "4  0.516680  "
      ]
     },
     "execution_count": 4,
     "metadata": {},
     "output_type": "execute_result"
    }
   ],
   "source": [
    "# exercise 3\n",
    "\n",
    "continuous_vars = 'AGE FRW SBP DBP CHOL CIG'.split()\n",
    "for var in continuous_vars:\n",
    "    fram['s'+var] = rescale(fram[var])    \n",
    "fram.head()"
   ]
  },
  {
   "cell_type": "markdown",
   "metadata": {},
   "source": [
    "Form a model that predicts systolic blood pressure using weight, gender, and cholesterol level as explanatory variables. Store the fitted model in variable named `fit`."
   ]
  },
  {
   "cell_type": "code",
   "execution_count": 5,
   "metadata": {},
   "outputs": [
    {
     "data": {
      "text/html": [
       "<table class=\"simpletable\">\n",
       "<caption>OLS Regression Results</caption>\n",
       "<tr>\n",
       "  <th>Dep. Variable:</th>           <td>SBP</td>       <th>  R-squared:         </th> <td>   0.125</td> \n",
       "</tr>\n",
       "<tr>\n",
       "  <th>Model:</th>                   <td>OLS</td>       <th>  Adj. R-squared:    </th> <td>   0.123</td> \n",
       "</tr>\n",
       "<tr>\n",
       "  <th>Method:</th>             <td>Least Squares</td>  <th>  F-statistic:       </th> <td>   66.37</td> \n",
       "</tr>\n",
       "<tr>\n",
       "  <th>Date:</th>             <td>Mon, 28 Sep 2020</td> <th>  Prob (F-statistic):</th> <td>4.13e-40</td> \n",
       "</tr>\n",
       "<tr>\n",
       "  <th>Time:</th>                 <td>00:12:38</td>     <th>  Log-Likelihood:    </th> <td> -6530.4</td> \n",
       "</tr>\n",
       "<tr>\n",
       "  <th>No. Observations:</th>      <td>  1394</td>      <th>  AIC:               </th> <td>1.307e+04</td>\n",
       "</tr>\n",
       "<tr>\n",
       "  <th>Df Residuals:</th>          <td>  1390</td>      <th>  BIC:               </th> <td>1.309e+04</td>\n",
       "</tr>\n",
       "<tr>\n",
       "  <th>Df Model:</th>              <td>     3</td>      <th>                     </th>     <td> </td>    \n",
       "</tr>\n",
       "<tr>\n",
       "  <th>Covariance Type:</th>      <td>nonrobust</td>    <th>                     </th>     <td> </td>    \n",
       "</tr>\n",
       "</table>\n",
       "<table class=\"simpletable\">\n",
       "<tr>\n",
       "       <td></td>          <th>coef</th>     <th>std err</th>      <th>t</th>      <th>P>|t|</th>  <th>[0.025</th>    <th>0.975]</th>  \n",
       "</tr>\n",
       "<tr>\n",
       "  <th>Intercept</th>   <td>  150.0199</td> <td>    0.985</td> <td>  152.336</td> <td> 0.000</td> <td>  148.088</td> <td>  151.952</td>\n",
       "</tr>\n",
       "<tr>\n",
       "  <th>SEX[T.male]</th> <td>   -4.0659</td> <td>    1.451</td> <td>   -2.803</td> <td> 0.005</td> <td>   -6.912</td> <td>   -1.220</td>\n",
       "</tr>\n",
       "<tr>\n",
       "  <th>sFRW</th>        <td>   17.7205</td> <td>    1.426</td> <td>   12.431</td> <td> 0.000</td> <td>   14.924</td> <td>   20.517</td>\n",
       "</tr>\n",
       "<tr>\n",
       "  <th>sCHOL</th>       <td>    4.9169</td> <td>    1.431</td> <td>    3.436</td> <td> 0.001</td> <td>    2.110</td> <td>    7.724</td>\n",
       "</tr>\n",
       "</table>\n",
       "<table class=\"simpletable\">\n",
       "<tr>\n",
       "  <th>Omnibus:</th>       <td>327.612</td> <th>  Durbin-Watson:     </th> <td>   1.774</td> \n",
       "</tr>\n",
       "<tr>\n",
       "  <th>Prob(Omnibus):</th> <td> 0.000</td>  <th>  Jarque-Bera (JB):  </th> <td> 843.676</td> \n",
       "</tr>\n",
       "<tr>\n",
       "  <th>Skew:</th>          <td> 1.237</td>  <th>  Prob(JB):          </th> <td>6.28e-184</td>\n",
       "</tr>\n",
       "<tr>\n",
       "  <th>Kurtosis:</th>      <td> 5.899</td>  <th>  Cond. No.          </th> <td>    2.79</td> \n",
       "</tr>\n",
       "</table><br/><br/>Warnings:<br/>[1] Standard Errors assume that the covariance matrix of the errors is correctly specified."
      ],
      "text/plain": [
       "<class 'statsmodels.iolib.summary.Summary'>\n",
       "\"\"\"\n",
       "                            OLS Regression Results                            \n",
       "==============================================================================\n",
       "Dep. Variable:                    SBP   R-squared:                       0.125\n",
       "Model:                            OLS   Adj. R-squared:                  0.123\n",
       "Method:                 Least Squares   F-statistic:                     66.37\n",
       "Date:                Mon, 28 Sep 2020   Prob (F-statistic):           4.13e-40\n",
       "Time:                        00:12:38   Log-Likelihood:                -6530.4\n",
       "No. Observations:                1394   AIC:                         1.307e+04\n",
       "Df Residuals:                    1390   BIC:                         1.309e+04\n",
       "Df Model:                           3                                         \n",
       "Covariance Type:            nonrobust                                         \n",
       "===============================================================================\n",
       "                  coef    std err          t      P>|t|      [0.025      0.975]\n",
       "-------------------------------------------------------------------------------\n",
       "Intercept     150.0199      0.985    152.336      0.000     148.088     151.952\n",
       "SEX[T.male]    -4.0659      1.451     -2.803      0.005      -6.912      -1.220\n",
       "sFRW           17.7205      1.426     12.431      0.000      14.924      20.517\n",
       "sCHOL           4.9169      1.431      3.436      0.001       2.110       7.724\n",
       "==============================================================================\n",
       "Omnibus:                      327.612   Durbin-Watson:                   1.774\n",
       "Prob(Omnibus):                  0.000   Jarque-Bera (JB):              843.676\n",
       "Skew:                           1.237   Prob(JB):                    6.28e-184\n",
       "Kurtosis:                       5.899   Cond. No.                         2.79\n",
       "==============================================================================\n",
       "\n",
       "Warnings:\n",
       "[1] Standard Errors assume that the covariance matrix of the errors is correctly specified.\n",
       "\"\"\""
      ]
     },
     "execution_count": 5,
     "metadata": {},
     "output_type": "execute_result"
    }
   ],
   "source": [
    "# exercise 4\n",
    "\n",
    "formula = 'SBP ~ sFRW + SEX + sCHOL'\n",
    "fit = smf.ols(formula, data=fram).fit()\n",
    "fit.summary()"
   ]
  },
  {
   "cell_type": "markdown",
   "metadata": {},
   "source": [
    "Add the variable AGE to the model and inspect the estimates of the coefficients using the `summary` method of the fitted model. Again use the name `fit` for the fitted model. (From now on assume that we always use the name `fit` for the variable of the fitted model.)"
   ]
  },
  {
   "cell_type": "code",
   "execution_count": 6,
   "metadata": {},
   "outputs": [
    {
     "data": {
      "text/html": [
       "<table class=\"simpletable\">\n",
       "<caption>OLS Regression Results</caption>\n",
       "<tr>\n",
       "  <th>Dep. Variable:</th>           <td>SBP</td>       <th>  R-squared:         </th> <td>   0.146</td> \n",
       "</tr>\n",
       "<tr>\n",
       "  <th>Model:</th>                   <td>OLS</td>       <th>  Adj. R-squared:    </th> <td>   0.144</td> \n",
       "</tr>\n",
       "<tr>\n",
       "  <th>Method:</th>             <td>Least Squares</td>  <th>  F-statistic:       </th> <td>   59.39</td> \n",
       "</tr>\n",
       "<tr>\n",
       "  <th>Date:</th>             <td>Mon, 28 Sep 2020</td> <th>  Prob (F-statistic):</th> <td>2.44e-46</td> \n",
       "</tr>\n",
       "<tr>\n",
       "  <th>Time:</th>                 <td>00:12:38</td>     <th>  Log-Likelihood:    </th> <td> -6513.6</td> \n",
       "</tr>\n",
       "<tr>\n",
       "  <th>No. Observations:</th>      <td>  1394</td>      <th>  AIC:               </th> <td>1.304e+04</td>\n",
       "</tr>\n",
       "<tr>\n",
       "  <th>Df Residuals:</th>          <td>  1389</td>      <th>  BIC:               </th> <td>1.306e+04</td>\n",
       "</tr>\n",
       "<tr>\n",
       "  <th>Df Model:</th>              <td>     4</td>      <th>                     </th>     <td> </td>    \n",
       "</tr>\n",
       "<tr>\n",
       "  <th>Covariance Type:</th>      <td>nonrobust</td>    <th>                     </th>     <td> </td>    \n",
       "</tr>\n",
       "</table>\n",
       "<table class=\"simpletable\">\n",
       "<tr>\n",
       "       <td></td>          <th>coef</th>     <th>std err</th>      <th>t</th>      <th>P>|t|</th>  <th>[0.025</th>    <th>0.975]</th>  \n",
       "</tr>\n",
       "<tr>\n",
       "  <th>Intercept</th>   <td>  150.1695</td> <td>    0.974</td> <td>  154.221</td> <td> 0.000</td> <td>  148.259</td> <td>  152.080</td>\n",
       "</tr>\n",
       "<tr>\n",
       "  <th>SEX[T.male]</th> <td>   -4.3805</td> <td>    1.435</td> <td>   -3.053</td> <td> 0.002</td> <td>   -7.195</td> <td>   -1.566</td>\n",
       "</tr>\n",
       "<tr>\n",
       "  <th>sFRW</th>        <td>   16.9771</td> <td>    1.415</td> <td>   11.999</td> <td> 0.000</td> <td>   14.202</td> <td>   19.753</td>\n",
       "</tr>\n",
       "<tr>\n",
       "  <th>sCHOL</th>       <td>    4.2696</td> <td>    1.419</td> <td>    3.009</td> <td> 0.003</td> <td>    1.486</td> <td>    7.053</td>\n",
       "</tr>\n",
       "<tr>\n",
       "  <th>sAGE</th>        <td>    8.1332</td> <td>    1.400</td> <td>    5.810</td> <td> 0.000</td> <td>    5.387</td> <td>   10.879</td>\n",
       "</tr>\n",
       "</table>\n",
       "<table class=\"simpletable\">\n",
       "<tr>\n",
       "  <th>Omnibus:</th>       <td>321.087</td> <th>  Durbin-Watson:     </th> <td>   1.807</td> \n",
       "</tr>\n",
       "<tr>\n",
       "  <th>Prob(Omnibus):</th> <td> 0.000</td>  <th>  Jarque-Bera (JB):  </th> <td> 840.955</td> \n",
       "</tr>\n",
       "<tr>\n",
       "  <th>Skew:</th>          <td> 1.206</td>  <th>  Prob(JB):          </th> <td>2.45e-183</td>\n",
       "</tr>\n",
       "<tr>\n",
       "  <th>Kurtosis:</th>      <td> 5.944</td>  <th>  Cond. No.          </th> <td>    2.82</td> \n",
       "</tr>\n",
       "</table><br/><br/>Warnings:<br/>[1] Standard Errors assume that the covariance matrix of the errors is correctly specified."
      ],
      "text/plain": [
       "<class 'statsmodels.iolib.summary.Summary'>\n",
       "\"\"\"\n",
       "                            OLS Regression Results                            \n",
       "==============================================================================\n",
       "Dep. Variable:                    SBP   R-squared:                       0.146\n",
       "Model:                            OLS   Adj. R-squared:                  0.144\n",
       "Method:                 Least Squares   F-statistic:                     59.39\n",
       "Date:                Mon, 28 Sep 2020   Prob (F-statistic):           2.44e-46\n",
       "Time:                        00:12:38   Log-Likelihood:                -6513.6\n",
       "No. Observations:                1394   AIC:                         1.304e+04\n",
       "Df Residuals:                    1389   BIC:                         1.306e+04\n",
       "Df Model:                           4                                         \n",
       "Covariance Type:            nonrobust                                         \n",
       "===============================================================================\n",
       "                  coef    std err          t      P>|t|      [0.025      0.975]\n",
       "-------------------------------------------------------------------------------\n",
       "Intercept     150.1695      0.974    154.221      0.000     148.259     152.080\n",
       "SEX[T.male]    -4.3805      1.435     -3.053      0.002      -7.195      -1.566\n",
       "sFRW           16.9771      1.415     11.999      0.000      14.202      19.753\n",
       "sCHOL           4.2696      1.419      3.009      0.003       1.486       7.053\n",
       "sAGE            8.1332      1.400      5.810      0.000       5.387      10.879\n",
       "==============================================================================\n",
       "Omnibus:                      321.087   Durbin-Watson:                   1.807\n",
       "Prob(Omnibus):                  0.000   Jarque-Bera (JB):              840.955\n",
       "Skew:                           1.206   Prob(JB):                    2.45e-183\n",
       "Kurtosis:                       5.944   Cond. No.                         2.82\n",
       "==============================================================================\n",
       "\n",
       "Warnings:\n",
       "[1] Standard Errors assume that the covariance matrix of the errors is correctly specified.\n",
       "\"\"\""
      ]
     },
     "execution_count": 6,
     "metadata": {},
     "output_type": "execute_result"
    }
   ],
   "source": [
    "# exercise 5\n",
    "\n",
    "formula = 'SBP ~ sFRW + SEX + sCHOL + sAGE'\n",
    "fit = smf.ols(formula, data=fram).fit()\n",
    "fit.summary()"
   ]
  },
  {
   "cell_type": "markdown",
   "metadata": {},
   "source": [
    "How much does the inclusion of age increase the explanatory power of the model? Which variables explain the variance of the target variable most?\n",
    "\n",
    "***\n",
    "The inclusion of `sAGE` increases the R-squared statistic of the model from 0.125 to 0.146. This means that the model went from explaining approximately 12.5% of the variance of the data to explaining around 14.6%, which is an increase of 2.1 percentual points.  \n",
    "Because the variables are standardized, we can compare their relevance to the model by looking at their coefficient estimates. The coefficient of a standardized variable shows the effect that an increase of 1 standard deviation on that variable would have on the target. So, the most relevant variables are the ones with higher absolute values on the coeffient, in this case `sFRW` (abs(coef) = 16.9771), followed by `sAGE` (abs(coef) = 8.1332), and finally `SEX` (abs(coef) = 4.3805) and `sCHOL` (abs(coef) = 4.2696) with quite similar values.\n",
    "\n",
    "***"
   ]
  },
  {
   "cell_type": "markdown",
   "metadata": {},
   "source": [
    "Try to add to the model all the interactions with other variables. "
   ]
  },
  {
   "cell_type": "code",
   "execution_count": 7,
   "metadata": {},
   "outputs": [
    {
     "data": {
      "text/html": [
       "<table class=\"simpletable\">\n",
       "<caption>OLS Regression Results</caption>\n",
       "<tr>\n",
       "  <th>Dep. Variable:</th>           <td>SBP</td>       <th>  R-squared:         </th> <td>   0.151</td> \n",
       "</tr>\n",
       "<tr>\n",
       "  <th>Model:</th>                   <td>OLS</td>       <th>  Adj. R-squared:    </th> <td>   0.144</td> \n",
       "</tr>\n",
       "<tr>\n",
       "  <th>Method:</th>             <td>Least Squares</td>  <th>  F-statistic:       </th> <td>   24.52</td> \n",
       "</tr>\n",
       "<tr>\n",
       "  <th>Date:</th>             <td>Mon, 28 Sep 2020</td> <th>  Prob (F-statistic):</th> <td>4.92e-43</td> \n",
       "</tr>\n",
       "<tr>\n",
       "  <th>Time:</th>                 <td>00:12:38</td>     <th>  Log-Likelihood:    </th> <td> -6509.9</td> \n",
       "</tr>\n",
       "<tr>\n",
       "  <th>No. Observations:</th>      <td>  1394</td>      <th>  AIC:               </th> <td>1.304e+04</td>\n",
       "</tr>\n",
       "<tr>\n",
       "  <th>Df Residuals:</th>          <td>  1383</td>      <th>  BIC:               </th> <td>1.310e+04</td>\n",
       "</tr>\n",
       "<tr>\n",
       "  <th>Df Model:</th>              <td>    10</td>      <th>                     </th>     <td> </td>    \n",
       "</tr>\n",
       "<tr>\n",
       "  <th>Covariance Type:</th>      <td>nonrobust</td>    <th>                     </th>     <td> </td>    \n",
       "</tr>\n",
       "</table>\n",
       "<table class=\"simpletable\">\n",
       "<tr>\n",
       "          <td></td>             <th>coef</th>     <th>std err</th>      <th>t</th>      <th>P>|t|</th>  <th>[0.025</th>    <th>0.975]</th>  \n",
       "</tr>\n",
       "<tr>\n",
       "  <th>Intercept</th>         <td>  150.5439</td> <td>    1.001</td> <td>  150.355</td> <td> 0.000</td> <td>  148.580</td> <td>  152.508</td>\n",
       "</tr>\n",
       "<tr>\n",
       "  <th>SEX[T.male]</th>       <td>   -4.7309</td> <td>    1.451</td> <td>   -3.261</td> <td> 0.001</td> <td>   -7.577</td> <td>   -1.885</td>\n",
       "</tr>\n",
       "<tr>\n",
       "  <th>sFRW</th>              <td>   16.6450</td> <td>    1.723</td> <td>    9.660</td> <td> 0.000</td> <td>   13.265</td> <td>   20.025</td>\n",
       "</tr>\n",
       "<tr>\n",
       "  <th>sFRW:SEX[T.male]</th>  <td>    1.6673</td> <td>    3.088</td> <td>    0.540</td> <td> 0.589</td> <td>   -4.390</td> <td>    7.725</td>\n",
       "</tr>\n",
       "<tr>\n",
       "  <th>sCHOL</th>             <td>    3.6181</td> <td>    1.878</td> <td>    1.926</td> <td> 0.054</td> <td>   -0.066</td> <td>    7.302</td>\n",
       "</tr>\n",
       "<tr>\n",
       "  <th>SEX[T.male]:sCHOL</th> <td>    1.0231</td> <td>    2.933</td> <td>    0.349</td> <td> 0.727</td> <td>   -4.730</td> <td>    6.776</td>\n",
       "</tr>\n",
       "<tr>\n",
       "  <th>sAGE</th>              <td>   10.2189</td> <td>    2.003</td> <td>    5.101</td> <td> 0.000</td> <td>    6.289</td> <td>   14.149</td>\n",
       "</tr>\n",
       "<tr>\n",
       "  <th>SEX[T.male]:sAGE</th>  <td>   -4.2923</td> <td>    2.886</td> <td>   -1.488</td> <td> 0.137</td> <td>   -9.953</td> <td>    1.368</td>\n",
       "</tr>\n",
       "<tr>\n",
       "  <th>sFRW:sCHOL</th>        <td>    4.9729</td> <td>    2.718</td> <td>    1.829</td> <td> 0.068</td> <td>   -0.359</td> <td>   10.305</td>\n",
       "</tr>\n",
       "<tr>\n",
       "  <th>sFRW:sAGE</th>         <td>   -2.0866</td> <td>    2.803</td> <td>   -0.744</td> <td> 0.457</td> <td>   -7.585</td> <td>    3.412</td>\n",
       "</tr>\n",
       "<tr>\n",
       "  <th>sCHOL:sAGE</th>        <td>   -4.7564</td> <td>    3.044</td> <td>   -1.563</td> <td> 0.118</td> <td>  -10.728</td> <td>    1.215</td>\n",
       "</tr>\n",
       "</table>\n",
       "<table class=\"simpletable\">\n",
       "<tr>\n",
       "  <th>Omnibus:</th>       <td>313.112</td> <th>  Durbin-Watson:     </th> <td>   1.798</td> \n",
       "</tr>\n",
       "<tr>\n",
       "  <th>Prob(Omnibus):</th> <td> 0.000</td>  <th>  Jarque-Bera (JB):  </th> <td> 802.290</td> \n",
       "</tr>\n",
       "<tr>\n",
       "  <th>Skew:</th>          <td> 1.185</td>  <th>  Prob(JB):          </th> <td>6.10e-175</td>\n",
       "</tr>\n",
       "<tr>\n",
       "  <th>Kurtosis:</th>      <td> 5.863</td>  <th>  Cond. No.          </th> <td>    6.02</td> \n",
       "</tr>\n",
       "</table><br/><br/>Warnings:<br/>[1] Standard Errors assume that the covariance matrix of the errors is correctly specified."
      ],
      "text/plain": [
       "<class 'statsmodels.iolib.summary.Summary'>\n",
       "\"\"\"\n",
       "                            OLS Regression Results                            \n",
       "==============================================================================\n",
       "Dep. Variable:                    SBP   R-squared:                       0.151\n",
       "Model:                            OLS   Adj. R-squared:                  0.144\n",
       "Method:                 Least Squares   F-statistic:                     24.52\n",
       "Date:                Mon, 28 Sep 2020   Prob (F-statistic):           4.92e-43\n",
       "Time:                        00:12:38   Log-Likelihood:                -6509.9\n",
       "No. Observations:                1394   AIC:                         1.304e+04\n",
       "Df Residuals:                    1383   BIC:                         1.310e+04\n",
       "Df Model:                          10                                         \n",
       "Covariance Type:            nonrobust                                         \n",
       "=====================================================================================\n",
       "                        coef    std err          t      P>|t|      [0.025      0.975]\n",
       "-------------------------------------------------------------------------------------\n",
       "Intercept           150.5439      1.001    150.355      0.000     148.580     152.508\n",
       "SEX[T.male]          -4.7309      1.451     -3.261      0.001      -7.577      -1.885\n",
       "sFRW                 16.6450      1.723      9.660      0.000      13.265      20.025\n",
       "sFRW:SEX[T.male]      1.6673      3.088      0.540      0.589      -4.390       7.725\n",
       "sCHOL                 3.6181      1.878      1.926      0.054      -0.066       7.302\n",
       "SEX[T.male]:sCHOL     1.0231      2.933      0.349      0.727      -4.730       6.776\n",
       "sAGE                 10.2189      2.003      5.101      0.000       6.289      14.149\n",
       "SEX[T.male]:sAGE     -4.2923      2.886     -1.488      0.137      -9.953       1.368\n",
       "sFRW:sCHOL            4.9729      2.718      1.829      0.068      -0.359      10.305\n",
       "sFRW:sAGE            -2.0866      2.803     -0.744      0.457      -7.585       3.412\n",
       "sCHOL:sAGE           -4.7564      3.044     -1.563      0.118     -10.728       1.215\n",
       "==============================================================================\n",
       "Omnibus:                      313.112   Durbin-Watson:                   1.798\n",
       "Prob(Omnibus):                  0.000   Jarque-Bera (JB):              802.290\n",
       "Skew:                           1.185   Prob(JB):                    6.10e-175\n",
       "Kurtosis:                       5.863   Cond. No.                         6.02\n",
       "==============================================================================\n",
       "\n",
       "Warnings:\n",
       "[1] Standard Errors assume that the covariance matrix of the errors is correctly specified.\n",
       "\"\"\""
      ]
     },
     "execution_count": 7,
     "metadata": {},
     "output_type": "execute_result"
    }
   ],
   "source": [
    "# exercise 6\n",
    "\n",
    "variables = 'sFRW SEX sCHOL sAGE'.split()\n",
    "interactions = []\n",
    "for i, var1 in enumerate(variables):\n",
    "    for var2 in variables[i+1:]:\n",
    "        interactions.append(var1 + ':' + var2)\n",
    "        \n",
    "formula = 'SBP ~ {} + {}'.format(' + '.join(variables), ' + '.join(interactions))\n",
    "fit = smf.ols(formula, data=fram).fit()\n",
    "fit.summary()"
   ]
  },
  {
   "cell_type": "markdown",
   "metadata": {},
   "source": [
    "Then visualize the model as the function of weight for the youngest (sAGE=-1.0), middle aged (sAGE=0.0), and oldest (sAGE=1.0) women while assuming the background variables to be centered. Remember to consider the changes in the intercept and in the regression coefficient caused by age. Visualize both the data points and the fitted lines."
   ]
  },
  {
   "cell_type": "code",
   "execution_count": 8,
   "metadata": {},
   "outputs": [
    {
     "data": {
      "image/png": "[encoded data removed]",
      "text/plain": [
       "<Figure size 432x288 with 1 Axes>"
      ]
     },
     "metadata": {
      "needs_background": "light"
     },
     "output_type": "display_data"
    }
   ],
   "source": [
    "# exercise 7\n",
    "\n",
    "women = fram[fram['SEX'] == 'female']\n",
    "women.plot.scatter('sFRW', 'SBP')\n",
    "\n",
    "coef = fit.params\n",
    "categories = {'youngest': -1.0, 'middle aged': 0.0, 'oldest': 1.0}\n",
    "for label, value in categories.items():\n",
    "    intercept = coef['Intercept'] + (value * coef['sAGE'])\n",
    "    slope = coef['sFRW'] + (value * coef['sFRW:sAGE'])\n",
    "    abline_plot(intercept, slope, ax=plt.gca(), color='rgb'[int(value)], label=label)\n",
    "plt.legend()\n",
    "\n",
    "plt.show()"
   ]
  },
  {
   "cell_type": "markdown",
   "metadata": {},
   "source": [
    "How does the dependence of blood pressure on weight change as a person gets older?\n",
    "***\n",
    "\n",
    "The dependence of blood pressure on weight gets weaker as a person gets older. The baseline for blood pressure gets higher with age (the intercept of the line increases with age), but changes in weight have smaller effects on blood pressure for older people (the slope of the line decreases with age).\n",
    "***"
   ]
  },
  {
   "cell_type": "markdown",
   "metadata": {},
   "source": [
    "### Even more accurate model\n",
    "\n",
    "Include the background variable `sCIG` from the data and its interactions. Visualize the model for systolic blood pressure as the function of the most important explanatory variable. Visualize separate lines for the small (-1.0), average (0.0), and large (1.0) values of `sCHOL`. Other variables can be assumed to be at their mean value."
   ]
  },
  {
   "cell_type": "code",
   "execution_count": 9,
   "metadata": {},
   "outputs": [
    {
     "name": "stdout",
     "output_type": "stream",
     "text": [
      "                            OLS Regression Results                            \n",
      "==============================================================================\n",
      "Dep. Variable:                    SBP   R-squared:                       0.152\n",
      "Model:                            OLS   Adj. R-squared:                  0.143\n",
      "Method:                 Least Squares   F-statistic:                     16.50\n",
      "Date:                Mon, 28 Sep 2020   Prob (F-statistic):           2.99e-40\n",
      "Time:                        00:12:38   Log-Likelihood:                -6508.6\n",
      "No. Observations:                1394   AIC:                         1.305e+04\n",
      "Df Residuals:                    1378   BIC:                         1.313e+04\n",
      "Df Model:                          15                                         \n",
      "Covariance Type:            nonrobust                                         \n",
      "=====================================================================================\n",
      "                        coef    std err          t      P>|t|      [0.025      0.975]\n",
      "-------------------------------------------------------------------------------------\n",
      "Intercept           151.3182      1.160    130.456      0.000     149.043     153.594\n",
      "SEX[T.male]          -5.3834      1.598     -3.368      0.001      -8.519      -2.248\n",
      "sFRW                 17.6415      1.866      9.455      0.000      13.981      21.302\n",
      "sFRW:SEX[T.male]     -0.1140      3.441     -0.033      0.974      -6.865       6.637\n",
      "sCHOL                 3.2957      1.965      1.677      0.094      -0.559       7.151\n",
      "SEX[T.male]:sCHOL     1.4369      3.142      0.457      0.648      -4.727       7.600\n",
      "sAGE                 10.3615      2.119      4.890      0.000       6.205      14.518\n",
      "SEX[T.male]:sAGE     -4.4248      3.179     -1.392      0.164     -10.661       1.811\n",
      "sCIG                  3.7733      3.106      1.215      0.225      -2.319       9.865\n",
      "SEX[T.male]:sCIG     -3.9094      3.599     -1.086      0.278     -10.970       3.151\n",
      "sFRW:sCHOL            4.8912      2.735      1.788      0.074      -0.475      10.257\n",
      "sFRW:sAGE            -1.8501      2.848     -0.650      0.516      -7.437       3.737\n",
      "sFRW:sCIG             3.6765      3.373      1.090      0.276      -2.941      10.294\n",
      "sCHOL:sAGE           -4.8509      3.091     -1.569      0.117     -10.914       1.212\n",
      "sCHOL:sCIG           -1.6344      3.368     -0.485      0.628      -8.242       4.973\n",
      "sAGE:sCIG            -0.3247      3.143     -0.103      0.918      -6.490       5.840\n",
      "==============================================================================\n",
      "Omnibus:                      303.518   Durbin-Watson:                   1.802\n",
      "Prob(Omnibus):                  0.000   Jarque-Bera (JB):              750.095\n",
      "Skew:                           1.164   Prob(JB):                    1.32e-163\n",
      "Kurtosis:                       5.738   Cond. No.                         7.93\n",
      "==============================================================================\n",
      "\n",
      "Warnings:\n",
      "[1] Standard Errors assume that the covariance matrix of the errors is correctly specified.\n"
     ]
    },
    {
     "data": {
      "image/png": "[encoded data removed]",
      "text/plain": [
       "<Figure size 432x288 with 1 Axes>"
      ]
     },
     "metadata": {
      "needs_background": "light"
     },
     "output_type": "display_data"
    }
   ],
   "source": [
    "# exercise 8\n",
    "\n",
    "variables = 'sFRW SEX sCHOL sAGE sCIG'.split()\n",
    "interactions = []\n",
    "for i, var1 in enumerate(variables):\n",
    "    for var2 in variables[i+1:]:\n",
    "        interactions.append(var1 + ':' + var2)\n",
    "        \n",
    "formula = 'SBP ~ {} + {}'.format(' + '.join(variables), ' + '.join(interactions))\n",
    "fit = smf.ols(formula, data=fram).fit()\n",
    "print(fit.summary())\n",
    "\n",
    "fram.plot.scatter('sFRW', 'SBP')\n",
    "\n",
    "coef = fit.params\n",
    "categories = {'small': -1.0, 'average': 0.0, 'large': 1.0}\n",
    "for label, value in categories.items():\n",
    "    intercept = coef['Intercept'] + (value * coef['sCHOL'])\n",
    "    slope = coef['sFRW'] + (value * coef['sFRW:sCHOL'])\n",
    "    abline_plot(intercept, slope, ax=plt.gca(), color='rgb'[int(value)], label=label)\n",
    "\n",
    "plt.legend()\n",
    "plt.show()"
   ]
  },
  {
   "cell_type": "markdown",
   "metadata": {},
   "source": [
    "How does the model and its accuracy look?\n",
    "\n",
    "***\n",
    "\n",
    "The inclusion of `sCIG` and its interactions doesn't seem to add much to the accuracy of the model. The R-squared became 0.152, only a 0.01 increase from the previous model's 0.151. The coefficient estimates of the added variables are all amongst the lowest, and none of their p-values indicates that they are statistically significant. Usually, an estimate is considered statistically significant if its p-value is lower than 0.1, 0.05 or 0.01, depending on the level of confidence required by the problem. The p-values of these variables' coefficient estimates are all between 0.225 (for `sCIG`) and 0.918 (for `sAGE:sCIG`), so none of the variables seems to be relevant. I would choose not to keep them in the model.\n",
    "***"
   ]
  },
  {
   "cell_type": "markdown",
   "metadata": {},
   "source": [
    "# Logistic regression"
   ]
  },
  {
   "cell_type": "code",
   "execution_count": 10,
   "metadata": {},
   "outputs": [],
   "source": [
    "def logistic(x):\n",
    "    return 1.0 / (1.0 + np.exp(-x))"
   ]
  },
  {
   "cell_type": "markdown",
   "metadata": {},
   "source": [
    "We will continue predicting high blood pressure by taking in some continuous background variables, such as the age."
   ]
  },
  {
   "cell_type": "markdown",
   "metadata": {},
   "source": [
    "Recreate the model `HIGH_BP ~ sFRW + SEX + SEX:sFRW` presented in the introduction. Make sure, that you get the same results. Use name `fit` for the fitted model. Compute and store the error rate into variable `error_rate_orig`."
   ]
  },
  {
   "cell_type": "code",
   "execution_count": 11,
   "metadata": {},
   "outputs": [
    {
     "name": "stdout",
     "output_type": "stream",
     "text": [
      "                 Generalized Linear Model Regression Results                  \n",
      "==============================================================================\n",
      "Dep. Variable:                HIGH_BP   No. Observations:                 1394\n",
      "Model:                            GLM   Df Residuals:                     1390\n",
      "Model Family:                Binomial   Df Model:                            3\n",
      "Link Function:                  logit   Scale:                          1.0000\n",
      "Method:                          IRLS   Log-Likelihood:                -856.87\n",
      "Date:                Mon, 28 Sep 2020   Deviance:                       1713.7\n",
      "Time:                        00:12:38   Pearson chi2:                 1.39e+03\n",
      "No. Iterations:                     4                                         \n",
      "Covariance Type:            nonrobust                                         \n",
      "====================================================================================\n",
      "                       coef    std err          z      P>|z|      [0.025      0.975]\n",
      "------------------------------------------------------------------------------------\n",
      "Intercept            0.7631      0.082      9.266      0.000       0.602       0.925\n",
      "SEX[T.male]         -0.1624      0.120     -1.350      0.177      -0.398       0.073\n",
      "sFRW                 1.0738      0.176      6.095      0.000       0.728       1.419\n",
      "SEX[T.male]:sFRW     0.2709      0.287      0.943      0.346      -0.292       0.834\n",
      "====================================================================================\n",
      "\n",
      "Error rate: 0.35581061692969873\n"
     ]
    }
   ],
   "source": [
    "# exercise 9\n",
    "\n",
    "fram['HIGH_BP'] = (fram['SBP'] >= 140) | (fram['DBP'] >= 90)\n",
    "fram['HIGH_BP'] = fram['HIGH_BP'].map(int)\n",
    "\n",
    "formula = 'HIGH_BP ~ sFRW + SEX + SEX:sFRW'\n",
    "fit = smf.glm(formula, data=fram, family=sm.families.Binomial()).fit()\n",
    "print(fit.summary())\n",
    "\n",
    "pred_prob = fit.fittedvalues\n",
    "false_negative = (pred_prob < 0.5) & fram['HIGH_BP']\n",
    "false_positive = (pred_prob > 0.5) & ~fram['HIGH_BP']\n",
    "error_rate_orig = np.mean(false_negative | false_positive)\n",
    "print('\\nError rate:', error_rate_orig)"
   ]
  },
  {
   "cell_type": "markdown",
   "metadata": {},
   "source": [
    "Add the `sAGE` variable and its interactions. Check the prediction accuracy of the model and compare it to the previous model. Store the prediction accuracy to variable `error_rate`."
   ]
  },
  {
   "cell_type": "code",
   "execution_count": 12,
   "metadata": {},
   "outputs": [
    {
     "name": "stdout",
     "output_type": "stream",
     "text": [
      "                 Generalized Linear Model Regression Results                  \n",
      "==============================================================================\n",
      "Dep. Variable:                HIGH_BP   No. Observations:                 1394\n",
      "Model:                            GLM   Df Residuals:                     1387\n",
      "Model Family:                Binomial   Df Model:                            6\n",
      "Link Function:                  logit   Scale:                          1.0000\n",
      "Method:                          IRLS   Log-Likelihood:                -845.51\n",
      "Date:                Mon, 28 Sep 2020   Deviance:                       1691.0\n",
      "Time:                        00:12:39   Pearson chi2:                 1.39e+03\n",
      "No. Iterations:                     4                                         \n",
      "Covariance Type:            nonrobust                                         \n",
      "====================================================================================\n",
      "                       coef    std err          z      P>|z|      [0.025      0.975]\n",
      "------------------------------------------------------------------------------------\n",
      "Intercept            0.8079      0.084      9.569      0.000       0.642       0.973\n",
      "SEX[T.male]         -0.1983      0.121     -1.632      0.103      -0.436       0.040\n",
      "sFRW                 1.0196      0.180      5.670      0.000       0.667       1.372\n",
      "SEX[T.male]:sFRW     0.3754      0.289      1.297      0.195      -0.192       0.943\n",
      "sAGE                 0.6008      0.173      3.466      0.001       0.261       0.941\n",
      "sAGE:SEX[T.male]    -0.5727      0.239     -2.392      0.017      -1.042      -0.103\n",
      "sAGE:sFRW           -0.7588      0.276     -2.750      0.006      -1.300      -0.218\n",
      "====================================================================================\n",
      "\n",
      "Error rate: 0.3278335724533716\n"
     ]
    }
   ],
   "source": [
    "# exercise 10\n",
    "\n",
    "formula = 'HIGH_BP ~ sFRW + SEX + sAGE + SEX:sFRW + sAGE:sFRW + sAGE:SEX'\n",
    "fit = smf.glm(formula, data=fram, family=sm.families.Binomial()).fit()\n",
    "print(fit.summary())\n",
    "\n",
    "pred_prob = fit.fittedvalues\n",
    "false_negative = (pred_prob < 0.5) & fram['HIGH_BP']\n",
    "false_positive = (pred_prob > 0.5) & ~fram['HIGH_BP']\n",
    "error_rate = np.mean(false_negative | false_positive)\n",
    "print('\\nError rate:', error_rate)"
   ]
  },
  {
   "cell_type": "markdown",
   "metadata": {},
   "source": [
    "Visualize the predicted probability of high blood pressure as the function of weight. Remember to use normalized values (`rescale`) also for those variables that are not included in the visualization, so that sensible values are used for them (data average). Draw two figures with altogether six curves: young, middle aged, and old women; and young, middle aged, and old men. Use `plt.subplots`. (Plotting works in similar fashion as in the introduction. The argument factors need, however, be changed as in the example about visualisation of continuous variable.) "
   ]
  },
  {
   "cell_type": "code",
   "execution_count": 13,
   "metadata": {},
   "outputs": [
    {
     "data": {
      "image/png": "[encoded data removed]",
      "text/plain": [
       "<Figure size 1008x288 with 2 Axes>"
      ]
     },
     "metadata": {
      "needs_background": "light"
     },
     "output_type": "display_data"
    }
   ],
   "source": [
    "# exercise 11\n",
    "\n",
    "def logistic(x):\n",
    "    return 1.0 / (1.0 + np.exp(-x))\n",
    "\n",
    "fig, ax = plt.subplots(1,2, figsize=(14,4), subplot_kw={'xlabel': 'sFRW', 'ylabel': 'HIGH_BP'})\n",
    "\n",
    "X = np.linspace(-4, 4, 100)\n",
    "coef = fit.params\n",
    "cat1 = {'female': 0, 'male': 1}\n",
    "cat2 = {'young': -1.0, 'middle aged': 0.0, 'old': 1.0}\n",
    "\n",
    "for label1, value1 in cat1.items():\n",
    "    ax[value1].set_title(label1)\n",
    "    subset = fram[fram['SEX'] == label1]\n",
    "    jitter = np.random.uniform(-0.05, 0.05, len(subset))\n",
    "    ax[value1].scatter(subset['sFRW'], subset['HIGH_BP'] + jitter)\n",
    "    \n",
    "    for label2, value2 in cat2.items():\n",
    "        intercept = coef['Intercept'] + (value1 * coef['SEX[T.male]']) + (value2 * coef['sAGE']) + (value1 * value2 * coef['sAGE:SEX[T.male]'])\n",
    "        slope = coef['sFRW'] + (value1 * coef['SEX[T.male]:sFRW']) + (value2 * coef['sAGE:sFRW'])\n",
    "        ax[value1].plot(X, logistic(intercept + slope*X), color='rgb'[int(value2)], label=label2)\n",
    "        \n",
    "plt.legend()\n",
    "plt.show()"
   ]
  },
  {
   "cell_type": "markdown",
   "metadata": {},
   "source": [
    "How do the models with different ages and genders differ from each other?\n",
    "\n",
    "***\n",
    "In general, the probability of high blood pressure gets higher as weight gets higher. However, this relationship seems to get weaker as a person gets older, as we can see by the softer curves of the oldest age groups compared to the youngest. The curves also differ between genders. Women seem to have a higher chance of high blood pressure compared to men, and it seems to depend less on weight. This happens in all age groups, but especially in the oldest: even at the lower end of the weight scale, older women have around 0.6 probability of high blood pressure, compared to less than 0.2 for men on the same age group.\n",
    "***"
   ]
  },
  {
   "cell_type": "markdown",
   "metadata": {},
   "source": [
    "Create here a helper function `train_test_split` that gets a DataFrame as parameter and return a pair of DataFrames: one for training and the second for testing. \n",
    "The function should get parameters in the following way:\n",
    "```python\n",
    "train_test_split(df, train_fraction=0.8)\n",
    "```\n",
    "The data should be split randomly to training and testing DataFrames so that `train_fraction` fraction of data should go into the training set. Use the `sample` method of the DataFrame."
   ]
  },
  {
   "cell_type": "code",
   "execution_count": 14,
   "metadata": {},
   "outputs": [],
   "source": [
    "# exercise 12\n",
    "\n",
    "def train_test_split(df, train_fraction):\n",
    "    train = df.sample(frac=train_fraction, axis=0)\n",
    "    test = df.drop(train.index, axis=0)\n",
    "    return train, test"
   ]
  },
  {
   "cell_type": "markdown",
   "metadata": {},
   "source": [
    "Check the prediction accuracy of your model using cross validation. Use 100-fold cross validation and training_fraction 0.8."
   ]
  },
  {
   "cell_type": "code",
   "execution_count": 15,
   "metadata": {},
   "outputs": [
    {
     "name": "stdout",
     "output_type": "stream",
     "text": [
      "Error rate: 0.3311827956989247\n"
     ]
    }
   ],
   "source": [
    "# exercise 13\n",
    "\n",
    "formula = 'HIGH_BP ~ sFRW + SEX + sAGE + SEX:sFRW + sAGE:sFRW + sAGE:SEX'\n",
    "error_model = []\n",
    "np.random.seed(1)\n",
    "for _ in range(100):\n",
    "    train, test = train_test_split(fram, 0.8)\n",
    "    fit = smf.glm(formula, data=train, family=sm.families.Binomial()).fit()\n",
    "    pred_prob = fit.predict(test)\n",
    "    error_rate = np.mean(((pred_prob < 0.5) & test['HIGH_BP']) | ((pred_prob > 0.5) & ~test['HIGH_BP']))\n",
    "    error_model.append(error_rate)\n",
    "    \n",
    "print('Error rate:', np.mean(error_model))"
   ]
  },
  {
   "cell_type": "markdown",
   "metadata": {},
   "source": [
    "## Predicting coronary heart disease\n",
    "\n",
    "Let us use again the same data to learn a model for the occurrence of coronary heart disease. We will use logistic regression to predict whether a patient *sometimes* shows symptoms of coronary heart disease. For this, add to the data a binary variable `hasCHD`, that describes the event (`CHD > 0`). The binary variable `hadCHD` can get only two values: 0 or 1. As a sanity check, compute the mean of this variable, which tells the number of positive cases."
   ]
  },
  {
   "cell_type": "code",
   "execution_count": 16,
   "metadata": {},
   "outputs": [
    {
     "name": "stdout",
     "output_type": "stream",
     "text": [
      "Mean hasCHD: 0.22022955523672882 (proportion of people with CHD)\n"
     ]
    }
   ],
   "source": [
    "# exercise 14\n",
    "\n",
    "fram['hasCHD'] = fram['CHD'] > 0\n",
    "fram['hasCHD'] = fram['hasCHD'].map(int)\n",
    "\n",
    "print('Mean hasCHD:', np.mean(fram['hasCHD']), '(proportion of people with CHD)')"
   ]
  },
  {
   "cell_type": "markdown",
   "metadata": {},
   "source": [
    "Next, form a logistic regression model for variable `hasCHD` by using variables sCHOL, sCIG, and sFRW, and their interactions as explanatory variables. Store the fitted model to variable `fit`. Compute the prediction accuracy of the model, store it to variable `error_rate`."
   ]
  },
  {
   "cell_type": "code",
   "execution_count": 17,
   "metadata": {},
   "outputs": [
    {
     "name": "stdout",
     "output_type": "stream",
     "text": [
      "                 Generalized Linear Model Regression Results                  \n",
      "==============================================================================\n",
      "Dep. Variable:                 hasCHD   No. Observations:                 1394\n",
      "Model:                            GLM   Df Residuals:                     1387\n",
      "Model Family:                Binomial   Df Model:                            6\n",
      "Link Function:                  logit   Scale:                          1.0000\n",
      "Method:                          IRLS   Log-Likelihood:                -721.19\n",
      "Date:                Mon, 28 Sep 2020   Deviance:                       1442.4\n",
      "Time:                        00:12:41   Pearson chi2:                 1.39e+03\n",
      "No. Iterations:                     4                                         \n",
      "Covariance Type:            nonrobust                                         \n",
      "==============================================================================\n",
      "                 coef    std err          z      P>|z|      [0.025      0.975]\n",
      "------------------------------------------------------------------------------\n",
      "Intercept     -1.2888      0.067    -19.101      0.000      -1.421      -1.157\n",
      "sCHOL          0.3324      0.130      2.554      0.011       0.077       0.587\n",
      "sCIG           0.4613      0.126      3.666      0.000       0.215       0.708\n",
      "sFRW           0.4404      0.130      3.386      0.001       0.185       0.695\n",
      "sCHOL:sCIG    -0.1022      0.273     -0.374      0.708      -0.637       0.433\n",
      "sCHOL:sFRW     0.1359      0.239      0.568      0.570      -0.333       0.604\n",
      "sCIG:sFRW      0.1646      0.258      0.637      0.524      -0.342       0.671\n",
      "==============================================================================\n",
      "\n",
      "Error rate: 0.22022955523672882\n"
     ]
    }
   ],
   "source": [
    "# exercise 15\n",
    "\n",
    "formula = 'hasCHD ~ sCHOL + sCIG + sFRW + sCHOL:sCIG + sCHOL:sFRW + sCIG:sFRW'\n",
    "fit = smf.glm(formula, data=fram, family=sm.families.Binomial()).fit()\n",
    "print(fit.summary())\n",
    "\n",
    "pred_prob = fit.fittedvalues\n",
    "error_rate = np.mean(((pred_prob < 0.5) & fram['hasCHD']) | ((pred_prob > 0.5) & ~fram['hasCHD']))\n",
    "print('\\nError rate:', error_rate)"
   ]
  },
  {
   "cell_type": "markdown",
   "metadata": {},
   "source": [
    "Visualize the model by using the most important explanator on the x axis. Visualize both the points (with `plt.scatter`)\n",
    "and the logistic curve (with `plt.plot`)."
   ]
  },
  {
   "cell_type": "code",
   "execution_count": 18,
   "metadata": {},
   "outputs": [
    {
     "data": {
      "image/png": "[encoded data removed]",
      "text/plain": [
       "<Figure size 432x288 with 1 Axes>"
      ]
     },
     "metadata": {
      "needs_background": "light"
     },
     "output_type": "display_data"
    }
   ],
   "source": [
    "# exercise 16\n",
    "\n",
    "def logistic(x):\n",
    "    return 1.0 / (1.0 + np.exp(-x))\n",
    "\n",
    "jitter = np.random.uniform(-0.05, 0.05, len(fram))\n",
    "plt.scatter(fram['sCIG'], fram['hasCHD'] + jitter)\n",
    "\n",
    "X = np.linspace(-4, 4, 100)\n",
    "coef = fit.params\n",
    "plt.plot(X, logistic(coef['Intercept'] + coef['sCIG']*X))\n",
    "\n",
    "plt.xlabel('sCIG')\n",
    "plt.ylabel('hasCHD')\n",
    "plt.show()"
   ]
  },
  {
   "cell_type": "markdown",
   "metadata": {},
   "source": [
    "Is the prediction accuracy of the model good or bad? Can we expect to have practical use of the model?\n",
    "***\n",
    "The prediction accuracy is bad. If we predict no coronary heart disease (`hasCHD` = 0) for every observation, the error rate is the fraction of people with coronary heart disease (`hasCHD` = 1), which is around 0.22 (from the calculation of the mean). This is exactly the same error rate this model is producing. It doesn't seem to perform better than the base rate of just predicting the most common category, so we shouldn't expect it to be very useful in practice.\n",
    "***"
   ]
  },
  {
   "cell_type": "markdown",
   "metadata": {},
   "source": [
    "If a person has cholestherol 200, smokes 17 cigarets per day, and has weight 100, then what is the probability that he/she sometimes shows signs of coronal hear disease? Note that the model expects normalized values. Store the normalized values to dictionary called `point`. Store the probability in variable `predicted`."
   ]
  },
  {
   "cell_type": "code",
   "execution_count": 19,
   "metadata": {},
   "outputs": [
    {
     "name": "stdout",
     "output_type": "stream",
     "text": [
      "P(hasCHD | (sCHOL=200, sCIG=17, sFRW=100)) = 0.21616166025041006\n"
     ]
    }
   ],
   "source": [
    "# exercise 17\n",
    "\n",
    "def normalize(val, s):\n",
    "    return (val - s.mean()) / (2 * s.std())\n",
    "\n",
    "point = {'sCHOL': normalize(200, fram['CHOL']), 'sCIG': normalize(17, fram['CIG']), 'sFRW': normalize(100, fram['FRW'])}\n",
    "predicted = fit.predict(point)[0]\n",
    "print('P(hasCHD | (sCHOL=200, sCIG=17, sFRW=100)) =', predicted)"
   ]
  }
 ],
 "metadata": {
  "kernelspec": {
   "display_name": "Python 3",
   "language": "python",
   "name": "python3"
  },
  "language_info": {
   "codemirror_mode": {
    "name": "ipython",
    "version": 3
   },
   "file_extension": ".py",
   "mimetype": "text/x-python",
   "name": "python",
   "nbconvert_exporter": "python",
   "pygments_lexer": "ipython3",
   "version": "3.8.2"
  }
 },
 "nbformat": 4,
 "nbformat_minor": 2
}